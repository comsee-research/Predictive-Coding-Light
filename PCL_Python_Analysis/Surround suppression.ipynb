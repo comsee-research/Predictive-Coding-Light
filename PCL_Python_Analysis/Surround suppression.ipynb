{
 "cells": [
  {
   "cell_type": "code",
   "execution_count": null,
   "id": "a676281b",
   "metadata": {},
   "outputs": [],
   "source": [
    "#!/usr/bin/env python3\n",
    "# -*- coding: utf-8 -*-\n",
    "\"\"\"\n",
    "Created on Wed Dec 21 13:38:32 2022\n",
    "\n",
    "@author: comsee\n",
    "\"\"\"\n",
    "\n",
    "%load_ext autoreload\n",
    "%autoreload 2\n",
    "\n",
    "import os\n",
    "os.chdir(\".../neuvisys-analysis\")\n",
    "\n",
    "import os\n",
    "import numpy as np\n",
    "import matplotlib.pyplot as plt\n",
    "import matplotlib\n",
    "from src.spiking_network.network.neuvisys import SpikingNetwork\n",
    "\n",
    "from src.spiking_network.analysis.network_statistics import (\n",
    "    average_over_orientations,\n",
    "    averaged_graph2\n",
    ")"
   ]
  },
  {
   "cell_type": "code",
   "execution_count": null,
   "id": "7ab9b053",
   "metadata": {},
   "outputs": [],
   "source": [
    "os.chdir(\"...\")\n",
    "home = \"...\"\n",
    "\n",
    "SMALL_SIZE = 20\n",
    "MEDIUM_SIZE = 25\n",
    "BIGGER_SIZE = 30"
   ]
  },
  {
   "cell_type": "code",
   "execution_count": null,
   "id": "411dc735",
   "metadata": {},
   "outputs": [],
   "source": [
    "networks_path3 = \"...\"\n",
    "\n",
    "path = networks_path3 + \"/.../\"\n",
    "\n",
    "spinet = SpikingNetwork(path)"
   ]
  },
  {
   "cell_type": "code",
   "execution_count": null,
   "id": "ef3d5004",
   "metadata": {},
   "outputs": [],
   "source": [
    "layer_id = 0\n",
    "neuron_id = 2560 \n",
    "neuron_z = 0\n",
    "reset_neuron_z = neuron_z\n",
    "depth = spinet.l_shape[layer_id][2]\n",
    "thickness = 1\n",
    "theta = 0\n",
    "\n",
    "ok = False\n",
    "#depth = 608\n",
    "thresh = 0\n",
    "simulation_max = 2\n",
    "if(layer_id==0):\n",
    "    thresh=10\n",
    "else:\n",
    "    thresh=3"
   ]
  },
  {
   "cell_type": "code",
   "execution_count": null,
   "id": "e5800430",
   "metadata": {},
   "outputs": [],
   "source": [
    "angles = [0, 23, 45, 68, 90, 113, 135, 158]"
   ]
  },
  {
   "cell_type": "code",
   "execution_count": null,
   "id": "eff35973",
   "metadata": {},
   "outputs": [],
   "source": [
    "folder = \".../statistics/suppression/SurroundSupprALL/\""
   ]
  },
  {
   "cell_type": "code",
   "execution_count": null,
   "id": "6c8d3b2e",
   "metadata": {},
   "outputs": [],
   "source": [
    "average_over_orientations(spinet, 0, folder, 3, angles, 2, simulation_max, neuron_id, layer_id = 0, neuron_z = 0, max_depth = 64, thresh = thresh, tuned_ori= True, allthick = True, n_speed = 2 )"
   ]
  },
  {
   "cell_type": "code",
   "execution_count": null,
   "id": "e16f6887",
   "metadata": {
    "scrolled": false
   },
   "outputs": [],
   "source": [
    "folder_start = \".../statistics/suppression/SurroundSuppr\"\n",
    "load_folder = [folder_start + \"NO/\", folder_start + \"LAT/\", folder_start + \"TD/\", folder_start + \"ALL/\"]\n",
    "averaged_graph2(load_folder, 0, with_speed = False, n_thickness = 3, thickness = 3, speed = 0, n_speeds = 3, n_displays = 55, avg = False, start_space = 45, space = 3, n_simulation = 5)"
   ]
  }
 ],
 "metadata": {
  "kernelspec": {
   "display_name": "Python 3 (ipykernel)",
   "language": "python",
   "name": "python3"
  },
  "language_info": {
   "codemirror_mode": {
    "name": "ipython",
    "version": 3
   },
   "file_extension": ".py",
   "mimetype": "text/x-python",
   "name": "python",
   "nbconvert_exporter": "python",
   "pygments_lexer": "ipython3",
   "version": "3.8.10"
  }
 },
 "nbformat": 4,
 "nbformat_minor": 5
}
