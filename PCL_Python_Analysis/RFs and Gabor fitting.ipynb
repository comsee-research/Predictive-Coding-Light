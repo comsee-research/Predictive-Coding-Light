{
 "cells": [
  {
   "cell_type": "code",
   "execution_count": null,
   "id": "fef1669c",
   "metadata": {},
   "outputs": [],
   "source": [
    "import os\n",
    "os.chdir(\"/home/comsee/PhD_Antony/.../neuvisys_analysis/\")"
   ]
  },
  {
   "cell_type": "code",
   "execution_count": null,
   "id": "123f7cba",
   "metadata": {},
   "outputs": [],
   "source": [
    "%load_ext autoreload\n",
    "%autoreload 2\n",
    "\n",
    "import os\n",
    "import shutil\n",
    "import pprint\n",
    "import numpy as np\n",
    "import matplotlib.pyplot as plt\n",
    "import pandas as pd\n",
    "from pdf2image import convert_from_path\n",
    "from src.spiking_network.network.neuvisys import SpikingNetwork\n",
    "from src.spiking_network.analysis.network_display import (\n",
    "    display_network,\n",
    "    pdf_complex_receptive_fields,\n",
    ")\n",
    "from src.spiking_network.gabor2 import fit\n",
    "import theano\n",
    "import matplotlib.image as mpimg\n",
    "from  matplotlib.colors import LinearSegmentedColormap\n",
    "from fpdf import FPDF\n",
    "\n",
    "os.chdir(\"/home/.../neuvisys/neuvisys-analysis/src\")\n",
    "home = \"/home/.../\"\n",
    "\n",
    "SMALL_SIZE = 20\n",
    "MEDIUM_SIZE = 25\n",
    "BIGGER_SIZE = 30\n",
    "\n",
    "plt.rc('figure', figsize=(30, 8))\n",
    "plt.rc('font', size=SMALL_SIZE)  # controls default text sizes\n",
    "plt.rc('axes', titlesize=MEDIUM_SIZE,\n",
    "       labelsize=MEDIUM_SIZE)  # fontsize of the axes title, fontsize of the x and y labels\n",
    "plt.rc('xtick', labelsize=SMALL_SIZE)  # fontsize of the tick labels\n",
    "plt.rc('ytick', labelsize=SMALL_SIZE)  # fontsize of the tick labels\n",
    "plt.rc('legend', fontsize=SMALL_SIZE)  # legend fontsize"
   ]
  },
  {
   "cell_type": "code",
   "execution_count": null,
   "id": "a1bc46f4",
   "metadata": {},
   "outputs": [],
   "source": [
    "gf = fit.GaborFit()"
   ]
  },
  {
   "cell_type": "code",
   "execution_count": null,
   "id": "995b2109",
   "metadata": {},
   "outputs": [],
   "source": [
    "networks_path3 = \"/.../\"\n",
    "\n",
    "path = networks_path3 + \".../\"\n",
    "\n",
    "spinet = SpikingNetwork(path)"
   ]
  },
  {
   "cell_type": "code",
   "execution_count": null,
   "id": "f3c90f2e",
   "metadata": {},
   "outputs": [],
   "source": [
    "display_network([spinet])\n",
    "\n",
    "print(\"Simple cells weights\")\n",
    "if spinet.conf[\"nbCameras\"] == 2:\n",
    "    display(convert_from_path(path + \"figures/0/weight_sharing_combined.pdf\")[0])\n",
    "else:\n",
    "    display(convert_from_path(path + \"figures/0/weight_sharing_0.pdf\")[0])\n",
    "\n",
    "print(\"Complex cells weights (average over all simple cells)\")\n",
    "for i in range(spinet.l_shape[1, 2]):\n",
    "    display(convert_from_path(path + \"figures/1/complex_weights_depth_\" + str(i) + \".pdf\")[0])\n",
    "    break"
   ]
  },
  {
   "cell_type": "code",
   "execution_count": null,
   "id": "3b143f51",
   "metadata": {},
   "outputs": [],
   "source": [
    "pdf_complex_receptive_fields(spinet,1)"
   ]
  },
  {
   "cell_type": "code",
   "execution_count": null,
   "id": "26a4ac4d",
   "metadata": {},
   "outputs": [],
   "source": [
    "basis = spinet.generate_weight_mat2()"
   ]
  },
  {
   "cell_type": "code",
   "execution_count": null,
   "id": "4a18cf56",
   "metadata": {},
   "outputs": [],
   "source": [
    "cmap=LinearSegmentedColormap.from_list('rg',[\"r\", \"k\", \"lime\"], N=256) "
   ]
  },
  {
   "cell_type": "code",
   "execution_count": null,
   "id": "51fc15ec",
   "metadata": {},
   "outputs": [],
   "source": [
    "camera = 0\n",
    "source_path = spinet.path + \"images/0/gabors/\"\n",
    "errors = []\n",
    "for idex, b in enumerate(basis):\n",
    "    neuron = spinet.neurons[0][idex]\n",
    "    path = source_path + str(idex) + \".png\"\n",
    "    _, pp, se = gf.fit(np.expand_dims(b, axis = 2)) \n",
    "    pp = fit.combine_params(*pp)\n",
    "    gs = gf.make_gabor(pp, 10,10)\n",
    "    gs = np.squeeze(gs)\n",
    "    \n",
    "    fig, axes = plt.subplots(2, 1)\n",
    "    \n",
    "    axes[0].axis(\"off\")\n",
    "    axes[1].axis(\"off\")\n",
    "    axes[0].imshow(mpimg.imread(neuron.weight_images[camera]))\n",
    "    axes[1].imshow(np.transpose(gs), cmap = cmap)\n",
    "    plt.savefig(path, bbox_inches=\"tight\")\n",
    "    plt.close(fig)\n",
    "    \n",
    "    errors.append(se[0])\n"
   ]
  }
 ],
 "metadata": {
  "kernelspec": {
   "display_name": "Python 3 (ipykernel)",
   "language": "python",
   "name": "python3"
  },
  "language_info": {
   "codemirror_mode": {
    "name": "ipython",
    "version": 3
   },
   "file_extension": ".py",
   "mimetype": "text/x-python",
   "name": "python",
   "nbconvert_exporter": "python",
   "pygments_lexer": "ipython3",
   "version": "3.8.10"
  }
 },
 "nbformat": 4,
 "nbformat_minor": 5
}
