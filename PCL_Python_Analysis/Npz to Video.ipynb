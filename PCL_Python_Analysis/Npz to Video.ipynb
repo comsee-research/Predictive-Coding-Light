{
 "cells": [
  {
   "cell_type": "markdown",
   "id": "532539b9",
   "metadata": {
    "pycharm": {
     "name": "#%% md\n"
    }
   },
   "source": [
    "# Network utility functions"
   ]
  },
  {
   "cell_type": "code",
   "execution_count": null,
   "id": "5b26cddf",
   "metadata": {
    "pycharm": {
     "name": "#%%\n"
    }
   },
   "outputs": [],
   "source": [
    "%load_ext autoreload\n",
    "%autoreload 2\n",
    "\n",
    "import os\n",
    "import shutil\n",
    "\n",
    "import numpy as np\n",
    "from scipy.stats import laplace\n",
    "import matplotlib.pyplot as plt\n",
    "\n",
    "from src.events.Events import (\n",
    "    Events,\n",
    ")\n",
    "\n",
    "os.chdir(\"/.../neuvisys-analysis/src\")\n",
    "home = \"/.../\""
   ]
  },
  {
   "cell_type": "code",
   "execution_count": null,
   "id": "4c351099",
   "metadata": {},
   "outputs": [],
   "source": [
    "events = Events(\"/.../surrounding_bars2/test/3_n/0/0/0.npz\")"
   ]
  },
  {
   "cell_type": "code",
   "execution_count": null,
   "id": "503d1a42",
   "metadata": {},
   "outputs": [],
   "source": [
    "events.to_video(10, \"...\"+str(0), 346,260)"
   ]
  }
 ],
 "metadata": {
  "kernelspec": {
   "display_name": "Python 3 (ipykernel)",
   "language": "python",
   "name": "python3"
  },
  "language_info": {
   "codemirror_mode": {
    "name": "ipython",
    "version": 3
   },
   "file_extension": ".py",
   "mimetype": "text/x-python",
   "name": "python",
   "nbconvert_exporter": "python",
   "pygments_lexer": "ipython3",
   "version": "3.8.10"
  }
 },
 "nbformat": 4,
 "nbformat_minor": 5
}
